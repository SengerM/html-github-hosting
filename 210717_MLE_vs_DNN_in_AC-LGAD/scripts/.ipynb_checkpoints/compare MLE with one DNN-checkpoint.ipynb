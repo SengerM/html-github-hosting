{
 "cells": [
  {
   "cell_type": "code",
   "execution_count": 1,
   "id": "568aed60",
   "metadata": {},
   "outputs": [],
   "source": [
    "import pandas\n",
    "import unifiedplottinginterface as upi"
   ]
  },
  {
   "cell_type": "code",
   "execution_count": 2,
   "id": "bbd02b66",
   "metadata": {},
   "outputs": [
    {
     "name": "stdout",
     "output_type": "stream",
     "text": [
      "Index(['n_x,n_y,n_trigger,real_x (m),real_y (m),reconstructed_x (m),reconstructed_y (m)'], dtype='object')\n"
     ]
    }
   ],
   "source": [
    "mle_reconstruction_data = pandas.read_csv('/home/alf/cernbox/measurements_data/AC-LGAD/20210422175231_ElHolandes_WholeArea_TrainingDataset_11um_999trig_1MIP/MLE_position_reconstruction_analysis_parallel/20210524000000_unidos/reconstruction_data.csv', sep='\\t')\n",
    "print(mle_reconstruction_data.columns)"
   ]
  },
  {
   "cell_type": "code",
   "execution_count": 3,
   "id": "0aa44475",
   "metadata": {},
   "outputs": [
    {
     "name": "stdout",
     "output_type": "stream",
     "text": [
      "Index(['n_x', 'n_y', 'n_trigger', 'real_x (m)', 'reconstructed_x (m)',\n",
      "       'real_y (m)', 'reconstructed_y (m)'],\n",
      "      dtype='object')\n"
     ]
    }
   ],
   "source": [
    "dnn_reconstruction_data = pandas.read_feather('/home/alf/cernbox/measurements_data/AC-LGAD/20210425120438_ElHolandes_WholeArea_TestingDataset_1um_9trig_1MIP/dnn_position_reconstruction/20210706132426_reconstruction_DNN-20210706132426_4_2_1_10_ACLGADDNNRegressor/reconstruction_data.fd')\n",
    "print(dnn_reconstruction_data.columns)"
   ]
  },
  {
   "cell_type": "code",
   "execution_count": 4,
   "id": "8107af44",
   "metadata": {},
   "outputs": [
    {
     "name": "stdout",
     "output_type": "stream",
     "text": [
      "   region number        x1        y1        x2        y2\n",
      "0              1  0.026220  0.032062  0.026301  0.032146\n",
      "1              2  0.026129  0.032064  0.026205  0.032145\n",
      "2              3  0.026164  0.032152  0.026172  0.032187\n",
      "3              4  0.026164  0.032108  0.026172  0.032143\n"
     ]
    }
   ],
   "source": [
    "rectangles_corners = pandas.read_csv('/home/alf/cernbox/measurements_data/AC-LGAD/20210425120438_ElHolandes_WholeArea_TestingDataset_1um_9trig_1MIP/dnn_position_reconstruction_analysis_and_plots/20210706132426_reconstruction_DNN-20210706132426_4_2_1_10_ACLGADDNNRegressor/analyses_results.csv')\n",
    "rectangles_corners.drop(['x_mean (m)','y_mean (m)', 'x_std (m)','y_std (m)'], axis=1, inplace=True)\n",
    "print(rectangles_corners)"
   ]
  },
  {
   "cell_type": "code",
   "execution_count": 5,
   "id": "c06c4370",
   "metadata": {},
   "outputs": [
    {
     "name": "stdout",
     "output_type": "stream",
     "text": [
      "1\n",
      "2\n",
      "3\n",
      "4\n"
     ]
    }
   ],
   "source": [
    "for region_number in rectangles_corners['region number']:\n",
    "    "
   ]
  }
 ],
 "metadata": {
  "kernelspec": {
   "display_name": "Python 3 (ipykernel)",
   "language": "python",
   "name": "python3"
  },
  "language_info": {
   "codemirror_mode": {
    "name": "ipython",
    "version": 3
   },
   "file_extension": ".py",
   "mimetype": "text/x-python",
   "name": "python",
   "nbconvert_exporter": "python",
   "pygments_lexer": "ipython3",
   "version": "3.8.10"
  }
 },
 "nbformat": 4,
 "nbformat_minor": 5
}
